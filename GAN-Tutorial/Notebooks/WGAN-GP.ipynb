{
 "cells": [
  {
   "cell_type": "markdown",
   "metadata": {},
   "source": [
    "# Implementation of WGAN-GP\n",
    "Reference: https://arxiv.org/pdf/1704.00028.pdf\n"
   ]
  },
  {
   "cell_type": "code",
   "execution_count": null,
   "metadata": {
    "collapsed": true
   },
   "outputs": [],
   "source": [
    "# Run the comment below only when using Google Colab\n",
    "# !pip install torch torchvision"
   ]
  },
  {
   "cell_type": "code",
   "execution_count": 1,
   "metadata": {
    "collapsed": true
   },
   "outputs": [],
   "source": [
    "import torch\n",
    "import torchvision\n",
    "import torch.nn as nn\n",
    "import torch.nn.functional as F\n",
    "import torch.autograd as autograd"
   ]
  },
  {
   "cell_type": "code",
   "execution_count": 2,
   "metadata": {
    "collapsed": true
   },
   "outputs": [],
   "source": [
    "from torch.utils.data import DataLoader\n",
    "from torchvision import datasets\n",
    "from torchvision import transforms\n",
    "from torchvision.utils import save_image"
   ]
  },
  {
   "cell_type": "code",
   "execution_count": 3,
   "metadata": {
    "collapsed": true
   },
   "outputs": [],
   "source": [
    "import numpy as np\n",
    "import datetime\n",
    "import os, sys"
   ]
  },
  {
   "cell_type": "code",
   "execution_count": 4,
   "metadata": {
    "collapsed": true
   },
   "outputs": [],
   "source": [
    "from matplotlib.pyplot import imshow, imsave\n",
    "%matplotlib inline"
   ]
  },
  {
   "cell_type": "code",
   "execution_count": 5,
   "metadata": {
    "collapsed": true
   },
   "outputs": [],
   "source": [
    "MODEL_NAME = 'WGAN-gp'\n",
    "DEVICE = torch.device(\"cuda:0\" if torch.cuda.is_available() else \"cpu\")"
   ]
  },
  {
   "cell_type": "code",
   "execution_count": 6,
   "metadata": {
    "collapsed": true
   },
   "outputs": [],
   "source": [
    "def to_onehot(x, num_classes=10):\n",
    "    assert isinstance(x, int) or isinstance(x, (torch.LongTensor, torch.cuda.LongTensor))\n",
    "    if isinstance(x, int):\n",
    "        c = torch.zeros(1, num_classes).long()\n",
    "        c[0][x] = 1\n",
    "    else:\n",
    "        x = x.cpu()\n",
    "        c = torch.LongTensor(x.size(0), num_classes)\n",
    "        c.zero_()\n",
    "        c.scatter_(1, x, 1) # dim, index, src value\n",
    "    return c"
   ]
  },
  {
   "cell_type": "code",
   "execution_count": 7,
   "metadata": {
    "collapsed": true
   },
   "outputs": [],
   "source": [
    "def get_sample_image(G, n_noise=100):\n",
    "    \"\"\"\n",
    "        save sample 100 images\n",
    "    \"\"\"\n",
    "    img = np.zeros([280, 280])\n",
    "    for j in range(10):\n",
    "        c = torch.zeros([10, 10]).to(DEVICE)\n",
    "        c[:, j] = 1\n",
    "        z = torch.randn(10, n_noise).to(DEVICE)\n",
    "        y_hat = G(z,c).view(10, 28, 28)\n",
    "        result = y_hat.cpu().data.numpy()\n",
    "        img[j*28:(j+1)*28] = np.concatenate([x for x in result], axis=-1)\n",
    "    return img"
   ]
  },
  {
   "cell_type": "code",
   "execution_count": 8,
   "metadata": {
    "collapsed": true
   },
   "outputs": [],
   "source": [
    "class Discriminator(nn.Module):\n",
    "    \"\"\"\n",
    "        Convolutional Discriminator for MNIST\n",
    "    \"\"\"\n",
    "    def __init__(self, in_channel=1, input_size=784, condition_size=10, num_classes=1):\n",
    "        super(Discriminator, self).__init__()\n",
    "        self.transform = nn.Sequential(\n",
    "            nn.Linear(input_size+condition_size, 784),\n",
    "            nn.LeakyReLU(0.2),\n",
    "        )\n",
    "        self.conv = nn.Sequential(\n",
    "            # 28 -> 14\n",
    "            nn.Conv2d(in_channel, 512, 3, stride=2, padding=1, bias=False),\n",
    "            nn.BatchNorm2d(512),\n",
    "            nn.LeakyReLU(0.2),\n",
    "            # 14 -> 7\n",
    "            nn.Conv2d(512, 256, 3, stride=2, padding=1, bias=False),\n",
    "            nn.BatchNorm2d(256),\n",
    "            nn.LeakyReLU(0.2),\n",
    "            # 7 -> 4\n",
    "            nn.Conv2d(256, 128, 3, stride=2, padding=1, bias=False),\n",
    "            nn.BatchNorm2d(128),\n",
    "            nn.LeakyReLU(0.2),\n",
    "            nn.AvgPool2d(4),\n",
    "        )\n",
    "        self.fc = nn.Sequential(\n",
    "            # reshape input, 128 -> 1\n",
    "            nn.Linear(128, 1),\n",
    "        )\n",
    "    \n",
    "    def forward(self, x, c=None):\n",
    "        # x: (N, 1, 28, 28), c: (N, 10)\n",
    "        x, c = x.view(x.size(0), -1), c.float() # may not need\n",
    "        v = torch.cat((x, c), 1) # v: (N, 794)\n",
    "        y_ = self.transform(v) # (N, 784)\n",
    "        y_ = y_.view(y_.shape[0], 1, 28, 28) # (N, 1, 28, 28)\n",
    "        y_ = self.conv(y_)\n",
    "        y_ = y_.view(y_.size(0), -1)\n",
    "        y_ = self.fc(y_)\n",
    "        return y_"
   ]
  },
  {
   "cell_type": "code",
   "execution_count": 9,
   "metadata": {
    "collapsed": true
   },
   "outputs": [],
   "source": [
    "class Generator(nn.Module):\n",
    "    \"\"\"\n",
    "        Convolutional Generator for MNIST\n",
    "    \"\"\"\n",
    "    def __init__(self, input_size=100, condition_size=10):\n",
    "        super(Generator, self).__init__()\n",
    "        self.fc = nn.Sequential(\n",
    "            nn.Linear(input_size+condition_size, 4*4*512),\n",
    "            nn.ReLU(),\n",
    "        )\n",
    "        self.conv = nn.Sequential(\n",
    "            # input: 4 by 4, output: 7 by 7\n",
    "            nn.ConvTranspose2d(512, 256, 3, stride=2, padding=1, bias=False),\n",
    "            nn.BatchNorm2d(256),\n",
    "            nn.ReLU(),\n",
    "            # input: 7 by 7, output: 14 by 14\n",
    "            nn.ConvTranspose2d(256, 128, 4, stride=2, padding=1, bias=False),\n",
    "            nn.BatchNorm2d(128),\n",
    "            nn.ReLU(),\n",
    "            # input: 14 by 14, output: 28 by 28\n",
    "            nn.ConvTranspose2d(128, 1, 4, stride=2, padding=1, bias=False),\n",
    "            nn.Tanh(),\n",
    "        )\n",
    "        \n",
    "    def forward(self, x, c):\n",
    "        # x: (N, 100), c: (N, 10)\n",
    "        x, c = x.view(x.size(0), -1), c.float() # may not need\n",
    "        v = torch.cat((x, c), 1) # v: (N, 110)\n",
    "        y_ = self.fc(v)\n",
    "        y_ = y_.view(y_.size(0), 512, 4, 4)\n",
    "        y_ = self.conv(y_) # (N, 28, 28)\n",
    "        return y_"
   ]
  },
  {
   "cell_type": "code",
   "execution_count": 10,
   "metadata": {
    "collapsed": true
   },
   "outputs": [],
   "source": [
    "D = Discriminator().to(DEVICE)\n",
    "G = Generator().to(DEVICE)\n",
    "# D.load_state_dict('D_dc.pkl')\n",
    "# G.load_state_dict('G_dc.pkl')"
   ]
  },
  {
   "cell_type": "code",
   "execution_count": 11,
   "metadata": {
    "collapsed": true
   },
   "outputs": [],
   "source": [
    "transform = transforms.Compose([transforms.ToTensor(),\n",
    "                                transforms.Normalize(mean=(0.5, 0.5, 0.5),\n",
    "                                std=(0.5, 0.5, 0.5))]\n",
    ")"
   ]
  },
  {
   "cell_type": "code",
   "execution_count": 12,
   "metadata": {
    "collapsed": true
   },
   "outputs": [],
   "source": [
    "mnist = datasets.MNIST(root='../data/', train=True, transform=transform, download=True)"
   ]
  },
  {
   "cell_type": "code",
   "execution_count": 13,
   "metadata": {
    "collapsed": true
   },
   "outputs": [],
   "source": [
    "batch_size = 64"
   ]
  },
  {
   "cell_type": "code",
   "execution_count": 14,
   "metadata": {
    "collapsed": true
   },
   "outputs": [],
   "source": [
    "data_loader = DataLoader(dataset=mnist, batch_size=batch_size, shuffle=True, drop_last=True, pin_memory=True)"
   ]
  },
  {
   "cell_type": "code",
   "execution_count": 15,
   "metadata": {
    "collapsed": true
   },
   "outputs": [],
   "source": [
    "D_opt = torch.optim.Adam(D.parameters(), lr=0.0005, betas=(0.5, 0.9))\n",
    "G_opt = torch.optim.Adam(G.parameters(), lr=0.0005, betas=(0.5, 0.9))"
   ]
  },
  {
   "cell_type": "code",
   "execution_count": 16,
   "metadata": {
    "collapsed": true
   },
   "outputs": [],
   "source": [
    "max_epoch = 30 # need more than 20 epochs for training generator\n",
    "step = 0\n",
    "n_noise = 100\n",
    "p_coeff = 10 # lambda\n",
    "n_critic = 5"
   ]
  },
  {
   "cell_type": "code",
   "execution_count": 17,
   "metadata": {
    "collapsed": true
   },
   "outputs": [],
   "source": [
    "D_labels = torch.ones([batch_size, 1]).to(DEVICE) # Discriminator Label to real\n",
    "D_fakes = torch.zeros([batch_size, 1]).to(DEVICE) # Discriminator Label to fake"
   ]
  },
  {
   "cell_type": "code",
   "execution_count": 18,
   "metadata": {
    "scrolled": true
   },
   "outputs": [
    {
     "name": "stdout",
     "output_type": "stream",
     "text": [
      "Epoch: 0/30, Step: 0, D Loss: 9.205890655517578, G Loss: -0.027526430785655975\n",
      "Epoch: 0/30, Step: 500, D Loss: -6.2204813957214355, G Loss: 2.9368131160736084\n",
      "Epoch: 1/30, Step: 1000, D Loss: -5.232357978820801, G Loss: 3.1163578033447266\n",
      "Epoch: 1/30, Step: 1500, D Loss: -4.480729579925537, G Loss: 4.4438371658325195\n",
      "Epoch: 2/30, Step: 2000, D Loss: -4.630670547485352, G Loss: 4.495148658752441\n",
      "Epoch: 2/30, Step: 2500, D Loss: -4.7737579345703125, G Loss: 4.519621849060059\n",
      "Epoch: 3/30, Step: 3000, D Loss: -2.872873306274414, G Loss: 5.068078994750977\n",
      "Epoch: 3/30, Step: 3500, D Loss: -3.017317533493042, G Loss: 4.754785537719727\n",
      "Epoch: 4/30, Step: 4000, D Loss: -4.193995952606201, G Loss: 5.679494857788086\n",
      "Epoch: 4/30, Step: 4500, D Loss: -2.3448548316955566, G Loss: 5.901308536529541\n",
      "Epoch: 5/30, Step: 5000, D Loss: -2.5334980487823486, G Loss: 4.977435111999512\n",
      "Epoch: 5/30, Step: 5500, D Loss: -2.479895830154419, G Loss: 5.950960159301758\n",
      "Epoch: 6/30, Step: 6000, D Loss: -3.2865302562713623, G Loss: 7.765778541564941\n",
      "Epoch: 6/30, Step: 6500, D Loss: -2.5350899696350098, G Loss: 5.967423915863037\n",
      "Epoch: 7/30, Step: 7000, D Loss: -1.955806016921997, G Loss: 6.161993503570557\n",
      "Epoch: 8/30, Step: 7500, D Loss: -3.0458171367645264, G Loss: 6.481094837188721\n",
      "Epoch: 8/30, Step: 8000, D Loss: -1.9830830097198486, G Loss: 5.736634254455566\n",
      "Epoch: 9/30, Step: 8500, D Loss: -1.9043786525726318, G Loss: 4.220927715301514\n",
      "Epoch: 9/30, Step: 9000, D Loss: -2.589689016342163, G Loss: 3.9813435077667236\n",
      "Epoch: 10/30, Step: 9500, D Loss: -1.580645203590393, G Loss: 3.3652844429016113\n",
      "Epoch: 10/30, Step: 10000, D Loss: -1.550754427909851, G Loss: 6.376867294311523\n",
      "Epoch: 11/30, Step: 10500, D Loss: -1.5852805376052856, G Loss: 4.784759998321533\n",
      "Epoch: 11/30, Step: 11000, D Loss: -1.703678846359253, G Loss: 4.614572048187256\n",
      "Epoch: 12/30, Step: 11500, D Loss: -2.3709864616394043, G Loss: 2.0021181106567383\n",
      "Epoch: 12/30, Step: 12000, D Loss: -1.043336033821106, G Loss: -0.41923123598098755\n",
      "Epoch: 13/30, Step: 12500, D Loss: -2.0776872634887695, G Loss: -1.013580083847046\n",
      "Epoch: 13/30, Step: 13000, D Loss: -1.9748352766036987, G Loss: -1.1351789236068726\n",
      "Epoch: 14/30, Step: 13500, D Loss: -2.7059485912323, G Loss: -1.2448256015777588\n",
      "Epoch: 14/30, Step: 14000, D Loss: -1.6192512512207031, G Loss: -4.193856239318848\n",
      "Epoch: 15/30, Step: 14500, D Loss: -2.777379035949707, G Loss: -4.899677276611328\n",
      "Epoch: 16/30, Step: 15000, D Loss: -1.298590898513794, G Loss: -2.4059348106384277\n",
      "Epoch: 16/30, Step: 15500, D Loss: -1.0615181922912598, G Loss: -3.8455004692077637\n",
      "Epoch: 17/30, Step: 16000, D Loss: -1.3355447053909302, G Loss: -1.2435319423675537\n",
      "Epoch: 17/30, Step: 16500, D Loss: -0.9020851850509644, G Loss: -2.1975672245025635\n",
      "Epoch: 18/30, Step: 17000, D Loss: -0.7352770566940308, G Loss: -8.75827407836914\n",
      "Epoch: 18/30, Step: 17500, D Loss: -0.8260648250579834, G Loss: -6.827366828918457\n",
      "Epoch: 19/30, Step: 18000, D Loss: -1.4865089654922485, G Loss: -7.225926876068115\n",
      "Epoch: 19/30, Step: 18500, D Loss: -1.4914729595184326, G Loss: -9.282869338989258\n",
      "Epoch: 20/30, Step: 19000, D Loss: -2.5047309398651123, G Loss: -6.506110191345215\n",
      "Epoch: 20/30, Step: 19500, D Loss: -2.438042402267456, G Loss: -5.445602893829346\n",
      "Epoch: 21/30, Step: 20000, D Loss: -1.6331723928451538, G Loss: -8.61048412322998\n",
      "Epoch: 21/30, Step: 20500, D Loss: -1.8776981830596924, G Loss: -10.296141624450684\n",
      "Epoch: 22/30, Step: 21000, D Loss: 1.677549123764038, G Loss: -15.259414672851562\n",
      "Epoch: 22/30, Step: 21500, D Loss: -1.7010798454284668, G Loss: -10.146514892578125\n",
      "Epoch: 23/30, Step: 22000, D Loss: -1.6903753280639648, G Loss: -11.714973449707031\n",
      "Epoch: 24/30, Step: 22500, D Loss: -1.4302040338516235, G Loss: -11.616053581237793\n",
      "Epoch: 24/30, Step: 23000, D Loss: -1.197364091873169, G Loss: -17.023456573486328\n",
      "Epoch: 25/30, Step: 23500, D Loss: -0.5069658756256104, G Loss: -16.499183654785156\n",
      "Epoch: 25/30, Step: 24000, D Loss: -0.37350571155548096, G Loss: -16.700265884399414\n",
      "Epoch: 26/30, Step: 24500, D Loss: -0.7937109470367432, G Loss: -17.11536407470703\n",
      "Epoch: 26/30, Step: 25000, D Loss: -2.3698487281799316, G Loss: -14.945590019226074\n",
      "Epoch: 27/30, Step: 25500, D Loss: -2.722933769226074, G Loss: -19.15195083618164\n",
      "Epoch: 27/30, Step: 26000, D Loss: -3.56946063041687, G Loss: -17.948854446411133\n",
      "Epoch: 28/30, Step: 26500, D Loss: -2.586351156234741, G Loss: -19.138343811035156\n",
      "Epoch: 28/30, Step: 27000, D Loss: -3.1477437019348145, G Loss: -18.019302368164062\n",
      "Epoch: 29/30, Step: 27500, D Loss: -2.282325267791748, G Loss: -18.851917266845703\n",
      "Epoch: 29/30, Step: 28000, D Loss: -1.5492513179779053, G Loss: -19.524059295654297\n"
     ]
    }
   ],
   "source": [
    "for epoch in range(max_epoch):\n",
    "    for idx, (images, labels) in enumerate(data_loader):\n",
    "        D.zero_grad()\n",
    "        ## Training Discriminator\n",
    "        # Real data\n",
    "        x = images.to(DEVICE)\n",
    "        y = labels.view(batch_size, 1)\n",
    "        y = to_onehot(y).to(DEVICE)\n",
    "        \n",
    "        # Sampling\n",
    "        z = torch.randn(batch_size, n_noise).to(DEVICE)\n",
    "        x_fake = G(z, y)\n",
    "                \n",
    "        # Gradient Penalty (e.g. gradients w.r.t x_penalty)\n",
    "        eps = torch.rand(batch_size, 1, 1, 1).to(DEVICE) # x shape: (64, 1, 28, 28)\n",
    "        x_penalty = eps*x + (1-eps)*x_fake\n",
    "        x_penalty = x_penalty.view(x_penalty.size(0), -1)\n",
    "        p_outputs = D(x_penalty, y)\n",
    "        xp_grad = autograd.grad(outputs=p_outputs, inputs=x_penalty, grad_outputs=D_labels,\n",
    "                                create_graph=True, retain_graph=True, only_inputs=True)\n",
    "        grad_penalty = p_coeff * torch.mean(torch.pow(torch.norm(xp_grad[0], 2, 1) - 1, 2))\n",
    "        \n",
    "        # Wasserstein loss\n",
    "        x_outputs = D(x, y)\n",
    "        z_outputs = D(x_fake, y)\n",
    "        D_x_loss = torch.mean(x_outputs)\n",
    "        D_z_loss = torch.mean(z_outputs)\n",
    "        D_loss = D_z_loss - D_x_loss + grad_penalty\n",
    "        \n",
    "        D_loss.backward()\n",
    "        D_opt.step()        \n",
    "        if step % n_critic == 0:\n",
    "            D.zero_grad()\n",
    "            G.zero_grad()\n",
    "            # Training Generator\n",
    "            z = torch.randn(batch_size, n_noise).to(DEVICE)\n",
    "            z_outputs = D(G(z, y), y)\n",
    "            G_loss = -torch.mean(z_outputs)\n",
    "\n",
    "            G_loss.backward()\n",
    "            G_opt.step()\n",
    "        \n",
    "        if step % 500 == 0:\n",
    "            print('Epoch: {}/{}, Step: {}, D Loss: {}, G Loss: {}'.format(epoch, max_epoch, step, D_loss.item(), G_loss.item()))\n",
    "        \n",
    "        if step % 1000 == 0:\n",
    "            G.eval()\n",
    "            img = get_sample_image(G, n_noise)\n",
    "            imsave('samples/{}_step{}.jpg'.format(MODEL_NAME, str(step).zfill(3)), img, cmap='gray')\n",
    "            G.train()\n",
    "        step += 1"
   ]
  },
  {
   "cell_type": "code",
   "execution_count": null,
   "metadata": {
    "collapsed": true
   },
   "outputs": [],
   "source": []
  },
  {
   "cell_type": "markdown",
   "metadata": {},
   "source": [
    "## Sample"
   ]
  },
  {
   "cell_type": "code",
   "execution_count": 19,
   "metadata": {},
   "outputs": [
    {
     "data": {
      "text/plain": [
       "<matplotlib.image.AxesImage at 0x20bcccf8748>"
      ]
     },
     "execution_count": 19,
     "metadata": {},
     "output_type": "execute_result"
    },
    {
     "data": {
      "image/png": "[encoded data removed]",
      "text/plain": [
       "<matplotlib.figure.Figure at 0x20bce86bf28>"
      ]
     },
     "metadata": {},
     "output_type": "display_data"
    }
   ],
   "source": [
    "# generation to image\n",
    "G.eval()\n",
    "imshow(get_sample_image(G, n_noise), cmap='gray')"
   ]
  },
  {
   "cell_type": "code",
   "execution_count": 15,
   "metadata": {
    "collapsed": true
   },
   "outputs": [],
   "source": [
    "def save_checkpoint(state, file_name='checkpoint.pth.tar'):\n",
    "    torch.save(state, file_name)"
   ]
  },
  {
   "cell_type": "code",
   "execution_count": 16,
   "metadata": {
    "collapsed": true
   },
   "outputs": [],
   "source": [
    "# Saving params.\n",
    "# torch.save(D.state_dict(), 'D_c.pkl')\n",
    "# torch.save(G.state_dict(), 'G_c.pkl')\n",
    "save_checkpoint({'epoch': epoch + 1, 'state_dict':D.state_dict(), 'optimizer' : D_opt.state_dict()}, 'D_gp.pth.tar')\n",
    "save_checkpoint({'epoch': epoch + 1, 'state_dict':G.state_dict(), 'optimizer' : G_opt.state_dict()}, 'G_gp.pth.tar')"
   ]
  },
  {
   "cell_type": "code",
   "execution_count": null,
   "metadata": {
    "collapsed": true
   },
   "outputs": [],
   "source": []
  }
 ],
 "metadata": {
  "kernelspec": {
   "display_name": "Python 3",
   "language": "python",
   "name": "python3"
  },
  "language_info": {
   "codemirror_mode": {
    "name": "ipython",
    "version": 3
   },
   "file_extension": ".py",
   "mimetype": "text/x-python",
   "name": "python",
   "nbconvert_exporter": "python",
   "pygments_lexer": "ipython3",
   "version": "3.7.2"
  }
 },
 "nbformat": 4,
 "nbformat_minor": 2
}
